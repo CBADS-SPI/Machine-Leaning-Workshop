{
 "cells": [
  {
   "cell_type": "markdown",
   "id": "b81cea99",
   "metadata": {},
   "source": [
    "# H2O.ai\n",
    "\n",
    "[H2O.ai](https://www.h2o.ai/) is one of leading tool for machine learning. It provides a wide range of machine learning algorithms, and is very fast in execution. <br>\n",
    "\n",
    "They provide api support for R (along with many other tools) and also provide an easy to use user interface.R programmers can simply import h2o package and use it like any other R package.<br>\n",
    "\n",
    "Below is shown the positioning of h2o.ai compared to other market leaders in machine learning space. <br>\n",
    "\n",
    "We will work with Tree Based Machine Learning algorithms to explore h2o.ai.<br>\n",
    "\n",
    "<img src=\"img/h2oGartner.png\" width=\"400\"/>"
   ]
  },
  {
   "cell_type": "markdown",
   "id": "c966394c",
   "metadata": {},
   "source": [
    "### Getting started h2o engine\n",
    "Running [h2o.init](https://docs.h2o.ai/h2o/latest-stable/h2o-docs/starting-h2o.html#from-r) function spawns a new h2o process which can be access in `localhost:54321` link by default. Once a h2o process is spawned any number of user can connected to this h2o service to collaborate on model building process. <br>\n",
    "Make sure not to run h2o.init() multiple times which will end up creating multiple h2o services."
   ]
  },
  {
   "cell_type": "code",
   "execution_count": null,
   "id": "a5b3f82c",
   "metadata": {},
   "outputs": [],
   "source": [
    "# install.packages('h2o')\n",
    "library('h2o')\n",
    "h2o.init() # comment this line after an h2o instance created else multiple instance will be created"
   ]
  },
  {
   "cell_type": "markdown",
   "id": "cdb2d205",
   "metadata": {},
   "source": [
    "The welcome page of h2o at localhost:54321 is below. Apart from providing a host of machine learning models, h2o also provides an interface to\n",
    "- cleanse the data\n",
    "- create a series of steps to perform data mining, prediction and analysis\n",
    "- manage job status\n",
    "\n",
    "and many more which can be explored from the interface\n"
   ]
  },
  {
   "cell_type": "markdown",
   "id": "9d9aa3cd",
   "metadata": {},
   "source": [
    "<img src=\"img/h2oWelcome.png\" width=\"500\"/>"
   ]
  },
  {
   "cell_type": "markdown",
   "id": "6ea9f584",
   "metadata": {},
   "source": [
    "## Data Handling"
   ]
  },
  {
   "cell_type": "markdown",
   "id": "a7fe93b6",
   "metadata": {},
   "source": [
    "The same covertype dataset will be used for working with "
   ]
  },
  {
   "cell_type": "code",
   "execution_count": null,
   "id": "25e90686",
   "metadata": {},
   "outputs": [],
   "source": [
    "# Make + as string concat operator as well.. Dont worry about this cell...\n",
    "\"+\" = function(x,y) { if(is.character(x) || is.character(y)) return(paste(x , y, sep=\"\")) else .Primitive(\"+\")(x,y) }"
   ]
  },
  {
   "cell_type": "code",
   "execution_count": null,
   "id": "8063228b",
   "metadata": {},
   "outputs": [],
   "source": [
    "d1 = read.csv(\"dataset/covtype.data\", header=FALSE, stringsAsFactors=FALSE)\n",
    "colnames(d1) = c('Elevation', 'Aspect', 'Slope', 'Horizontal_Distance_To_Hydrology', 'Vertical_Distance_To_Hydrology', 'Horizontal_Distance_To_Roadways', 'Hillshade_9am', 'Hillshade_Noon', 'Hillshade_3pm', 'Horizontal_Distance_To_Fire_Points', 'WildernessArea'+(1:4), 'SoilType'+(1:40), 'CoverType')"
   ]
  },
  {
   "cell_type": "markdown",
   "id": "ad421a8d",
   "metadata": {},
   "source": [
    "MLP in keras requires categorical data to be in binary matrix format. However, tree based algorithms like Decision Tree, Gradient Boosting Machines can work with categorical data as is.<br>\n",
    "Below code converts the binary matrix back to categorical column. This reduces total number of features from 55 to 13."
   ]
  },
  {
   "cell_type": "code",
   "execution_count": null,
   "id": "1f0e6d54",
   "metadata": {},
   "outputs": [],
   "source": [
    "ncol(d1)\n",
    "\n",
    "d1$WildernessArea = apply(d1[,'WildernessArea'+(1:4)], 1, function(x) sum(x*(1:4)))\n",
    "d1$SoilType = apply(d1[,'SoilType'+(1:40)], 1, function(x) sum(x*(1:40)))\n",
    "d1 = d1[,-(11:54)]\n",
    "\n",
    "ncol(d1)"
   ]
  },
  {
   "cell_type": "markdown",
   "id": "be3a83b9",
   "metadata": {},
   "source": [
    "Converting categorical columns to factors to be identified as such."
   ]
  },
  {
   "cell_type": "code",
   "execution_count": null,
   "id": "ad5a4e33",
   "metadata": {},
   "outputs": [],
   "source": [
    "d1$CoverType = as.factor(d1$CoverType)\n",
    "d1$WildernessArea = as.factor(d1$WildernessArea)\n",
    "d1$SoilType = as.factor(d1$SoilType)"
   ]
  },
  {
   "cell_type": "code",
   "execution_count": null,
   "id": "c9be050c",
   "metadata": {},
   "outputs": [],
   "source": [
    "str(d1)"
   ]
  },
  {
   "cell_type": "markdown",
   "id": "310e6428",
   "metadata": {},
   "source": [
    "#### Import R object to the H2O cluster\n",
    "\"d1\" R dataframe can be imported into h2o using `as.h2o` function. This function takes as input the input dataframe \"d1\" as the 1st argument, name to be given for the dataframe in \"h2o\" as 2nd argument, and it returns a handle for the h2o object. The handle can be used to execute Machine Learning algorithms in H2O using R."
   ]
  },
  {
   "cell_type": "code",
   "execution_count": null,
   "id": "960d8eee",
   "metadata": {},
   "outputs": [],
   "source": [
    "test_index   = sample(x=1:nrow(d1), size=round(0.2*nrow(d1)), replace=FALSE)\n",
    "test_handle  = as.h2o(d1[ test_index,], \"test_data\") \n",
    "train_handle = as.h2o(d1[-test_index,], \"train_data\") "
   ]
  },
  {
   "cell_type": "markdown",
   "id": "51f93789",
   "metadata": {},
   "source": [
    "Data imported to h2o can be viewed in h2o UI under `Data > List All Frames`.<br>\n",
    "Clicking on the h2o data frame shows the structure of data frame\n",
    "\n",
    "<img src=\"img/h2oData.png\" width=\"800\"/>"
   ]
  },
  {
   "cell_type": "markdown",
   "id": "ea46e117",
   "metadata": {},
   "source": [
    "### Building Model\n",
    "List of models in H2O can be access from `Model` tab. <br>\n",
    "Let's build a Random Forest by `Model > Distributed Random Forest`. <br>\n",
    "It takes a number of parameters, few of which has been shown. <br>\n",
    "The train and test dataset created previously will be available in the drop down of \"training_frame\" and \"validation_frame\" respectively. Lets set only train, validation set, response column, and seed as shown, and leave all other parameters at default and train the model.\n",
    "<img src=\"img/DecisionTreePara1.png\" /> <img src=\"img/DecisionTreePara2.png\"/> \n",
    "<div align=\"center\">\n",
    "    .................................................. <br>\n",
    "    .................................................. <br>\n",
    "    .................................................. <br>\n",
    "    .................................................. <br>\n",
    "</div>\n",
    "    "
   ]
  },
  {
   "cell_type": "markdown",
   "id": "bcfe6366",
   "metadata": {},
   "source": [
    "One the Job is complete, clicking on `View` button open up the result. The 1st result is the model performance for differnet \"number of trees\" for the set hyperparameters."
   ]
  },
  {
   "cell_type": "markdown",
   "id": "3945d262",
   "metadata": {},
   "source": [
    "<img src=\"img/ModelPerformanceTrees.png\" width=\"300\"/>"
   ]
  },
  {
   "cell_type": "markdown",
   "id": "ae53c10b",
   "metadata": {},
   "source": [
    "Variable importance represents the most important feature for the prediction."
   ]
  },
  {
   "cell_type": "markdown",
   "id": "3ef8c6c4",
   "metadata": {},
   "source": [
    "<img src=\"img/VariableImportance.png\" width=\"600\"/>"
   ]
  },
  {
   "cell_type": "markdown",
   "id": "0cef8ca3",
   "metadata": {},
   "source": [
    "<img src=\"img/ConfusionMatrix.png\" width=\"700\"/>"
   ]
  },
  {
   "cell_type": "markdown",
   "id": "e6165ac8",
   "metadata": {},
   "source": []
  },
  {
   "cell_type": "markdown",
   "id": "819451e7",
   "metadata": {},
   "source": []
  },
  {
   "cell_type": "code",
   "execution_count": null,
   "id": "f368a6fb",
   "metadata": {},
   "outputs": [],
   "source": []
  }
 ],
 "metadata": {
  "kernelspec": {
   "display_name": "R",
   "language": "R",
   "name": "ir"
  },
  "language_info": {
   "codemirror_mode": "r",
   "file_extension": ".r",
   "mimetype": "text/x-r-source",
   "name": "R",
   "pygments_lexer": "r",
   "version": "4.0.2"
  }
 },
 "nbformat": 4,
 "nbformat_minor": 5
}
