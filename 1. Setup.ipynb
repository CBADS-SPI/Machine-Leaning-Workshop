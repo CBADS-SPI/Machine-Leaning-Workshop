{
 "cells": [
  {
   "cell_type": "markdown",
   "metadata": {},
   "source": [
    "For the workshop we require `R`, `Keras`, and `Anaconda`.\n",
    "- R is a leading tool for statistical computing.\n",
    "- Keras is one of the best tools for building Deep Net, and is an Open-Source tool by Google.\n",
    "- However, Keras by default works only with Python, and so we'll be using an R package to communicate with Python to use Keras in R via Python. So Python here acts as a bridge between R and Keras. For Python to work properly with Keras it needs to have necessary packages installed which will be done through Anaconda.\n",
    "\n",
    "<div>\n",
    "<img src=\"img/setup/RAnacondaKeras.PNG\" width=\"500\"/>\n",
    "</div>"
   ]
  },
  {
   "cell_type": "markdown",
   "metadata": {},
   "source": [
    "### Download and install Anaconda\n",
    "\n",
    "Follow the defaults of the \"Individual Edition\" installation. \n",
    "\n",
    "<div>\n",
    "<img src=\"img/setup/DownloadAnaconda.png\" width=\"500\"/>\n",
    "</div>"
   ]
  },
  {
   "cell_type": "markdown",
   "metadata": {},
   "source": [
    "### Opening Anaconda Terminal\n",
    "\n",
    "Post anaconda installation, open Anaconda Terminal (Anaconda Prompt) from the startup\n",
    "\n",
    "<div>\n",
    "<img src=\"img/setup/AnacondaStartup.PNG\" width=\"200\"/>\n",
    "</div>"
   ]
  },
  {
   "cell_type": "markdown",
   "metadata": {},
   "source": [
    "### Create Anaconda Environment \n",
    "\n",
    "An anaconda environment is a space where all tools required for a project are installed. So when you are required to use another system for this project, or share the tools and its dependencies to colleagues, then you can simply export the peoject environment and share it with them.\n",
    "\n",
    "A blank anaconda terminal will look like the below.  \n",
    "\n",
    "<div>\n",
    "<img src=\"img/setup/AnacondaTerminal.png\" width=\"500\"/>\n",
    "</div>\n",
    "\n",
    "Here `(base)` refers to the default anaconda terminal present in anaconda. The current anaconda terminal name is given in round braces.\n",
    "\n",
    "You can create anaconda environment \"QAAF\" using the following command\n",
    "\n",
    "<code> conda create --name QAAF </code>"
   ]
  },
  {
   "cell_type": "markdown",
   "metadata": {},
   "source": [
    "### Switching to an environment\n",
    "\n",
    "There can be multiple environments, each corresponding to a project. You can select a particular environment, say \"QAAF\" using the followign command\n",
    "\n",
    "<code> conda activate QAAF</code>\n",
    "\n",
    "Now you'll see `(QAAF)` instead of `(base)`"
   ]
  },
  {
   "cell_type": "markdown",
   "metadata": {},
   "source": [
    "### Installing Keras Python Package using Anaconda\n",
    "\n",
    "We need \"keras\" package to be installed via anaconda, which can be done using the following command\n",
    "\n",
    "<code> conda install -c anaconda keras-gpu</code>\n",
    "\n",
    "This will install Keras along with all its dependencies. `keras-gpu` will install the GPU version of keras. GPU reduces Deep Nets computation time multiple folds, and for the same we require keras-gpu instead of keras. However, if gpu is not present in your system, then it will make use of normal keras version by default."
   ]
  },
  {
   "cell_type": "markdown",
   "metadata": {},
   "source": [
    "### Installing Jupyter Notebook\n",
    "\n",
    "Jupyter notebook is an interactive GUI to run the code. Install the same using \n",
    "\n",
    "<code> conda install -c anaconda jupyter </code>\n"
   ]
  },
  {
   "cell_type": "markdown",
   "metadata": {},
   "source": [
    "### Jupyter Notebook Kernel\n",
    "\n",
    "By default Jupyter would contain only Python kernel after installation. `R` option as shown below wouldn't be present. So only python code can be executed. Since we'll test our code using R in Jupyter we need to setup R kernel.\n",
    "\n",
    "<div>\n",
    "<img src=\"img/setup/JupyterFront.png\" width=\"500\"/>\n",
    "</div>"
   ]
  },
  {
   "cell_type": "markdown",
   "metadata": {},
   "source": [
    "### Download and install R\n",
    "\n",
    "Follow the defaults of the installation. \n",
    "<br>Make sure to select only your system architecture (64/32-bit) during installation -- usually both are selected.\n",
    "<br><br>\n",
    "\n",
    "<div>\n",
    "<img src=\"img/setup/DownloadRSoft.png\" width=\"500\"/>\n",
    "</div>\n"
   ]
  },
  {
   "cell_type": "code",
   "execution_count": null,
   "metadata": {},
   "outputs": [],
   "source": []
  },
  {
   "cell_type": "code",
   "execution_count": null,
   "metadata": {},
   "outputs": [],
   "source": [
    "#  the below set of lines should be the first line of each R program\n",
    "# forces to use the \"market\" environment \n",
    "library(\"reticulate\")\n",
    "use_condaenv(\"QAAF\")\n",
    "use_python(\"C:/Users/ajayh/.conda/envs/QAAF\")\n",
    "# the below lines allows programs to share the GPU. else the entire gpu will be allocated to the same R script\n",
    "# note that this is the steps when there is only a single GPU. the steps below needs to be modified for GPUs > 1"
   ]
  },
  {
   "cell_type": "code",
   "execution_count": null,
   "metadata": {},
   "outputs": [],
   "source": []
  },
  {
   "cell_type": "code",
   "execution_count": null,
   "metadata": {},
   "outputs": [],
   "source": []
  },
  {
   "cell_type": "code",
   "execution_count": null,
   "metadata": {},
   "outputs": [],
   "source": []
  },
  {
   "cell_type": "code",
   "execution_count": 1,
   "metadata": {},
   "outputs": [
    {
     "data": {
      "text/html": [
       "'C:/Users/ajayh/Documents/GitHub/Its-all-about-Data/Keras'"
      ],
      "text/latex": [
       "'C:/Users/ajayh/Documents/GitHub/Its-all-about-Data/Keras'"
      ],
      "text/markdown": [
       "'C:/Users/ajayh/Documents/GitHub/Its-all-about-Data/Keras'"
      ],
      "text/plain": [
       "[1] \"C:/Users/ajayh/Documents/GitHub/Its-all-about-Data/Keras\""
      ]
     },
     "metadata": {},
     "output_type": "display_data"
    }
   ],
   "source": [
    "getwd()"
   ]
  },
  {
   "cell_type": "code",
   "execution_count": null,
   "metadata": {},
   "outputs": [],
   "source": []
  },
  {
   "cell_type": "code",
   "execution_count": null,
   "metadata": {},
   "outputs": [],
   "source": []
  }
 ],
 "metadata": {
  "kernelspec": {
   "display_name": "R",
   "language": "R",
   "name": "ir"
  },
  "language_info": {
   "codemirror_mode": "r",
   "file_extension": ".r",
   "mimetype": "text/x-r-source",
   "name": "R",
   "pygments_lexer": "r",
   "version": "4.0.2"
  }
 },
 "nbformat": 4,
 "nbformat_minor": 4
}
