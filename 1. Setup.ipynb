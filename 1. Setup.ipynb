{
 "cells": [
  {
   "cell_type": "markdown",
   "metadata": {},
   "source": [
    "For the workshop we require `R`, `Keras`, and `Anaconda`.\n",
    "- [R](https://www.r-project.org/) is a leading tool for statistical computing.\n",
    "- [Keras](https://keras.io/) is a very popular and easy to use tool for building Deep Neural Networks, and is an Open-Source tool by Google.\n",
    "- However, Keras by default works only with Python, and so we'll be using an R package, [reticulate](https://rstudio.github.io/reticulate/), to communicate with Python to use Keras in R via Python. So Python here acts as a bridge between R and Keras. For Python to work properly with Keras it needs to have necessary packages installed which will be done through [Anaconda](https://www.anaconda.com/). The [R wrapper for Keras](https://keras.rstudio.com/) will be used in R.\n",
    "\n",
    "<div>\n",
    "<img src=\"img/setup/RAnacondaKeras.PNG\" width=\"500\"/>\n",
    "</div>"
   ]
  },
  {
   "cell_type": "markdown",
   "metadata": {},
   "source": [
    "Please follow the sequence of steps below to get a working system."
   ]
  },
  {
   "cell_type": "markdown",
   "metadata": {},
   "source": [
    "**Note:** These instructions are written with a Windows machine in mind. Installations on Mac and Linux may vary slightly."
   ]
  },
  {
   "cell_type": "markdown",
   "metadata": {},
   "source": [
    "### [Download](https://www.anaconda.com/products/individual) and install Anaconda\n",
    "\n",
    "Follow the defaults of the \"Individual Edition\" installation. There is no need to register on the website (in case popups appear).\n",
    "\n",
    "<div>\n",
    "<img src=\"img/setup/DownloadAnaconda.png\" width=\"500\"/>\n",
    "</div>"
   ]
  },
  {
   "cell_type": "markdown",
   "metadata": {},
   "source": [
    "### Open the Anaconda Terminal\n",
    "\n",
    "Post anaconda installation, open the Anaconda Terminal (Anaconda Prompt). On windows machines this will be via the start menu. On Mac or Linux it is similar.\n",
    "\n",
    "<div>\n",
    "<img src=\"img/setup/AnacondaStartup.PNG\" width=\"200\"/>\n",
    "</div>"
   ]
  },
  {
   "cell_type": "markdown",
   "metadata": {},
   "source": [
    "### Create an Anaconda Environment \n",
    "\n",
    "An anaconda environment is a space where all tools required for a project are installed. So when you are required to use another system for this project, or share the tools and its dependencies with colleagues, then you can simply export the project environment and share it with them.\n",
    "\n",
    "A blank anaconda terminal will look like this:  \n",
    "\n",
    "<div>\n",
    "<img src=\"img/setup/AnacondaTerminal.png\" width=\"500\"/>\n",
    "</div>\n",
    "\n",
    "Here `(base)` refers to the default anaconda enviornment present in anaconda. The current anaconda terminal name is given in round braces.\n",
    "\n",
    "You can create the anaconda environment \"ML-Workshop\" using the following command:\n",
    "\n",
    "`conda create --name ML-Workshop`"
   ]
  },
  {
   "cell_type": "markdown",
   "metadata": {},
   "source": [
    "### Switching to an environment\n",
    "\n",
    "There can be multiple environments, each corresponding to a project. You can select a particular environment, say `ML-Workshop` using the following command:\n",
    "\n",
    "`conda activate ML-Workshop`\n",
    "\n",
    "Now you'll see `(ML-Workshop)` instead of `(base)`."
   ]
  },
  {
   "cell_type": "markdown",
   "metadata": {},
   "source": [
    "### Ensuring Python is installed\n",
    "\n",
    "Install Python (in the current enviornment):\n",
    "\n",
    "`conda install -c anaconda python`"
   ]
  },
  {
   "cell_type": "markdown",
   "metadata": {},
   "source": [
    "### Installing the Keras Python Package using Anaconda\n",
    "\n",
    "We need the `keras` package to be installed via Anaconda, which can be done using the following command:\n",
    "\n",
    "`conda install -c anaconda keras`\n",
    "\n",
    "This will install Keras along with all its dependencies. \n",
    "\n",
    "Note that you can try `keras-gpu` instead of `keras`. This will install the GPU version of keras. GPUs (Graphical Processing Units) reduce Deep Neural Network computation times significantly, and for the same we require `keras-gpu` instead of `keras`. However, if a GPU is not present in your system, then the software will make use of normal Keras version by default."
   ]
  },
  {
   "cell_type": "markdown",
   "metadata": {},
   "source": [
    "### Installing Jupyter Notebook\n",
    "\n",
    "Jupyter provides an interactive enviornment for notebooks. Install it via: \n",
    "\n",
    "`conda install -c anaconda jupyter`\n",
    "\n",
    "If you have never used Jupyter before, you can view this [video](https://www.youtube.com/watch?v=DKiI6NfSIe8) to get a feel for it.\n"
   ]
  },
  {
   "cell_type": "markdown",
   "metadata": {},
   "source": [
    "### Jupyter Notebook Kernel\n",
    "\n",
    "Jupyter connects to multiple language kernals including Python, R, and Julia. By default Jupyter would contain only a Python kernel after installation. The `R` option as shown below wouldn't be present. So only Python code can be executed. Since we'll test our code using R in Jupyter we need to setup an R kernel.\n",
    "\n",
    "<div>\n",
    "<img src=\"img/setup/JupyterFront.png\" width=\"500\"/>\n",
    "</div>"
   ]
  },
  {
   "cell_type": "markdown",
   "metadata": {},
   "source": [
    "### If you don't have R installed, install it\n",
    "\n",
    "You may probably have R installed in your system. In case you don't then download and [intall R](https://www.r-project.org/)"
   ]
  },
  {
   "cell_type": "markdown",
   "metadata": {},
   "source": [
    "### Connect R to Jupyter\n",
    " \n",
    "In R, install the package `IRkernel` via, `install.packages('IRkernel')`.\n",
    "\n",
    "Then execute `IRkernel::installspec(user = FALSE)`\n",
    "\n",
    "This will connect the Jupyter system to R.\n",
    "\n",
    "Now when you run Jupyter via,\n",
    "\n",
    "`jupyter notebook` (in the Anaconda prompt), you will able to create an R Notebook.\n",
    "\n",
    "QQQQ-Figure-here."
   ]
  },
  {
   "cell_type": "markdown",
   "metadata": {},
   "source": [
    "At this point open this notebook via Jupyter (you might have been looking at it before via NBViewer or similar). You can now run R commands in it. e.g:"
   ]
  },
  {
   "cell_type": "code",
   "execution_count": 1,
   "metadata": {},
   "outputs": [
    {
     "data": {
      "text/html": [
       "2"
      ],
      "text/latex": [
       "2"
      ],
      "text/markdown": [
       "2"
      ],
      "text/plain": [
       "[1] 2"
      ]
     },
     "metadata": {},
     "output_type": "display_data"
    }
   ],
   "source": [
    "1+1"
   ]
  },
  {
   "cell_type": "markdown",
   "metadata": {},
   "source": [
    "The commands below will continue the installation process:"
   ]
  },
  {
   "cell_type": "code",
   "execution_count": 2,
   "metadata": {},
   "outputs": [
    {
     "name": "stderr",
     "output_type": "stream",
     "text": [
      "also installing the dependencies ‘here’, ‘png’\n",
      "\n",
      "\n"
     ]
    },
    {
     "name": "stdout",
     "output_type": "stream",
     "text": [
      "\n",
      "The downloaded binary packages are in\n",
      "\t/var/folders/1r/48qlcl0n01q21sqtbnvn6m9c0000gp/T//Rtmpoh1za6/downloaded_packages\n"
     ]
    }
   ],
   "source": [
    "install.packages(\"reticulate\") #This package allows to connect to Anaconda and Python"
   ]
  },
  {
   "cell_type": "code",
   "execution_count": 1,
   "metadata": {},
   "outputs": [],
   "source": [
    "#  the below set of lines should be the first line of each R program\n",
    "# forces to use the \"market\" environment \n",
    "library(\"reticulate\")\n",
    "use_condaenv(\"ML-Workshops\")\n",
    "use_python(\"/Users/uqjnazar/opt/anaconda3/envs/ML-Workshop\")\n",
    "# the below lines allows programs to share the GPU. else the entire gpu will be allocated to the same R script\n",
    "# note that this is the steps when there is only a single GPU. the steps below needs to be modified for GPUs > 1"
   ]
  },
  {
   "cell_type": "code",
   "execution_count": 2,
   "metadata": {},
   "outputs": [
    {
     "name": "stdout",
     "output_type": "stream",
     "text": [
      "\n",
      "The downloaded binary packages are in\n",
      "\t/var/folders/1r/48qlcl0n01q21sqtbnvn6m9c0000gp/T//RtmpGGvq6N/downloaded_packages\n"
     ]
    },
    {
     "ename": "ERROR",
     "evalue": "Error in install_keras(): could not find function \"install_keras\"\n",
     "output_type": "error",
     "traceback": [
      "Error in install_keras(): could not find function \"install_keras\"\nTraceback:\n"
     ]
    }
   ],
   "source": [
    "install.packages(\"keras\")\n",
    "install_keras()"
   ]
  },
  {
   "cell_type": "code",
   "execution_count": 3,
   "metadata": {},
   "outputs": [],
   "source": [
    "library(\"keras\")"
   ]
  },
  {
   "cell_type": "code",
   "execution_count": null,
   "metadata": {},
   "outputs": [],
   "source": [
    "mnist <- dataset_mnist()"
   ]
  },
  {
   "cell_type": "code",
   "execution_count": null,
   "metadata": {},
   "outputs": [],
   "source": []
  },
  {
   "cell_type": "code",
   "execution_count": 4,
   "metadata": {},
   "outputs": [
    {
     "data": {
      "text/html": [
       "'/Users/uqjnazar/git/mine/QAAF'"
      ],
      "text/latex": [
       "'/Users/uqjnazar/git/mine/QAAF'"
      ],
      "text/markdown": [
       "'/Users/uqjnazar/git/mine/QAAF'"
      ],
      "text/plain": [
       "[1] \"/Users/uqjnazar/git/mine/QAAF\""
      ]
     },
     "metadata": {},
     "output_type": "display_data"
    }
   ],
   "source": [
    "getwd()"
   ]
  },
  {
   "cell_type": "code",
   "execution_count": null,
   "metadata": {},
   "outputs": [],
   "source": []
  },
  {
   "cell_type": "code",
   "execution_count": null,
   "metadata": {},
   "outputs": [],
   "source": []
  }
 ],
 "metadata": {
  "kernelspec": {
   "display_name": "R",
   "language": "R",
   "name": "ir"
  },
  "language_info": {
   "codemirror_mode": "r",
   "file_extension": ".r",
   "mimetype": "text/x-r-source",
   "name": "R",
   "pygments_lexer": "r",
   "version": "4.0.3"
  }
 },
 "nbformat": 4,
 "nbformat_minor": 4
}
