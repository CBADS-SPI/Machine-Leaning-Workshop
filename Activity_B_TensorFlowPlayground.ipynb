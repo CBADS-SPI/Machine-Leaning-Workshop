{
 "cells": [
  {
   "cell_type": "markdown",
   "metadata": {},
   "source": [
    "# Machine Learning (and Deep Learning) in just over 200 minutes with R\n",
    "Created by [Ajay Hemanth](https://www.linkedin.com/in/ajayhemanth/?originalSubdomain=au) with [Yoni Nazarathy](https://yoninazarathy.com/). \n",
    "\n",
    "See more material at the [workshop's GitHub page](https://github.com/ajayhemanth/Machine-Learning-Workshop).\n",
    "\n",
    "--- \n",
    "\n",
    "# Activity B: Tensor Flow Playground\n",
    "---"
   ]
  },
  {
   "cell_type": "markdown",
   "metadata": {},
   "source": [
    "In this activity we \"play\" with the website: https://playground.tensorflow.org/."
   ]
  }
 ],
 "metadata": {
  "kernelspec": {
   "display_name": "R",
   "language": "R",
   "name": "ir"
  },
  "language_info": {
   "codemirror_mode": "r",
   "file_extension": ".r",
   "mimetype": "text/x-r-source",
   "name": "R",
   "pygments_lexer": "r",
   "version": "4.0.3"
  }
 },
 "nbformat": 4,
 "nbformat_minor": 4
}
